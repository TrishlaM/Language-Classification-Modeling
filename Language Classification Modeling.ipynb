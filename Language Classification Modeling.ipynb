{
 "cells": [
  {
   "cell_type": "markdown",
   "metadata": {},
   "source": [
    "### STEP 01 - Exploratory Data Analysis & Visualization"
   ]
  },
  {
   "cell_type": "code",
   "execution_count": 2,
   "metadata": {},
   "outputs": [],
   "source": [
    "import matplotlib\n",
    "%matplotlib inline\n",
    "\n",
    "import matplotlib.pyplot as plt\n",
    "plt.style.use('ggplot')\n",
    "\n",
    "from tqdm import tqdm_notebook\n",
    "import numpy as np\n",
    "import string\n",
    "\n",
    "from collections import defaultdict\n",
    "\n",
    "from sklearn.metrics import f1_score\n",
    "from sklearn.naive_bayes import MultinomialNB\n",
    "from sklearn.feature_extraction.text import CountVectorizer\n",
    "\n",
    "import joblib\n",
    "import pickle as pkl\n",
    "\n",
    "from helper_code import *"
   ]
  },
  {
   "cell_type": "code",
   "execution_count": 5,
   "metadata": {},
   "outputs": [],
   "source": [
    "def open_file(filename):\n",
    "    with open(filename,'r',encoding=\"utf8\") as f:\n",
    "        data = f.readlines()\n",
    "    return data"
   ]
  },
  {
   "cell_type": "code",
   "execution_count": 6,
   "metadata": {},
   "outputs": [],
   "source": [
    "#Creating a dictionary file to save the content from various different languages and using the keys to label them\n",
    "\n",
    "data_raw = dict()\n",
    "data_raw['sk'] = open_file(r'C:\\Users\\trish\\Desktop\\LanguageClassificationProject\\Data\\Sentences\\train_sentences.sk')\n",
    "data_raw['cs'] = open_file(r'C:\\Users\\trish\\Desktop\\LanguageClassificationProject\\Data\\Sentences\\train_sentences.cs')\n",
    "data_raw['en'] = open_file(r'C:\\Users\\trish\\Desktop\\LanguageClassificationProject\\Data\\Sentences\\train_sentences.en')\n"
   ]
  },
  {
   "cell_type": "code",
   "execution_count": 7,
   "metadata": {},
   "outputs": [
    {
     "data": {
      "text/plain": [
       "{'sk': ['Pán de Grandes Pascual jasne vysvetlil, aká je pridaná hodnota definície terorizmu, vyjadrením, že definícia, ktorú sme používali predtým, bola dôležitejšia, ale aj tým, že trval na zozname priestupkov.\\n',\n",
       "  'Keby sme sa nepokúsili o nemožné, ako by sme mohli dosiahnuť zmenu?\\n',\n",
       "  'Oznámil, že budúci týždeň sa zúčastní schôdze Výboru pre zahraničné veci.\\n',\n",
       "  'Niekedy by sa mohlo zdať, že ide o hru alebo pokrytectvo.\\n',\n",
       "  'Jej účelom je tiež identifikovať akékoľvek slabé miesta v systéme a právne nedostatky súdnej spolupráce v trestných veciach, aby sa európskym zákonodarcom poskytli všetky informácie potrebné na správne politické a regulačné hodnotenie.\\n',\n",
       "  'Na dosiahnutie tohto cieľa je mimoriadne dôležité, aby členské štáty zaviedli prijaté opatrenia a úzko spolupracovali.\\n',\n",
       "  '(FR) Pani predsedajúca, pán predseda Barroso nám stanovil náročný cieľ v oblasti výroby obnoviteľnej energie s cieľom znížiť emisie skleníkových plynov bez toho, aby sa brzdili naše vyhliadky na rast.\\n',\n",
       "  'Táto požiadavka však nie je dostatočne prísne formulovaná, pokiaľ ide o vzťahy s Ruskom.\\n',\n",
       "  'spravodajca. - Vážená pani predsedajúca, diskusia a výroky mojich kolegov ma ešte väčšmi utvrdili v presvedčení, že sú potrebné pravidlá, že sú potrebné silné požiadavky, ktoré by sa mohli stať povinnými, že je potrebná silná agentúra.\\n',\n",
       "  'Nemusíme ju vyvolávať násilne vydávaním právnych predpisov.\\n',\n",
       "  'V Spojených štátoch amerických je ich dosť.\\n',\n",
       "  'Pripravujeme sa na rýchly návrat k tým istým politikám, ktoré prispeli ku kríze. Robíme to v mene takzvanej životaschopnosti verejných financií, ale na úkor potenciálnej obnovy a kúpnej sily domácností.\\n',\n",
       "  '(DA) Vážená pani predsedajúca, nie som žiadny antifederalista.\\n',\n",
       "  'Je urážajúce a potupné, že sedíme so založenými rukami.\\n',\n",
       "  'Druhý bod, o ktorom chcem hovoriť, je orientovaný viac na budúcnosť.\\n',\n",
       "  'Táto správa dokonca pridáva ubezpečenie o dôvere v samoregulačné prednosti trhu a tvári sa, že verí tomu, že sa môže stať etickejší.\\n',\n",
       "  'Túto zraniteľnosť obmedzuje, možno dokonca priamo zastavuje kolegiálny systém, ktorý je podľa mňa stále len krokom správnym smerom, nie však reálnym riešením.\\n',\n",
       "  'Dúfam, že mexickí zákonodarcovia čoskoro zlepšia všeobecný zákon o práve žien na život bez násilia s cieľom riadne vymedziť rozličné formy násilia a mechanizmy uplatňovania zákonov.\\n',\n",
       "  'V tomto duchu sa vymenovanie osôb, z ktorých je Dvor audítorov zložený, musí riadiť kritériami spôsobilosti a nezávislosti.\\n',\n",
       "  'Naliehavo potrebné sú dlhodobé programy na ochranu svedkov.\\n',\n",
       "  'Chcem, aby sme boli svedkami zvyšovania cien uhlíka, aby sme v budúcnosti smerovali k nízkouhlíkovým investíciám.\\n',\n",
       "  'Na účinný boj proti zmene klímy potrebujeme v Kodani dosiahnuť minimálne 30 %.\\n',\n",
       "  'A to už 30 rokov?\\n',\n",
       "  'Írsko o ratifikácii rozhodlo na základe referenda, v ktorom írski občania Zmluvu odmietli.\\n',\n",
       "  'Nejaké plány sú zavedené a môžem povedať iba toľko, že bolo odstránené ustanovenie o revízii, v ktorom sa hovorilo, že po roku 2012 budeme musieť znovu otvárať Pandorinu skrinku v najväčšom postihnutom členskom štáte, inými slovami, v Nemecku.\\n',\n",
       "  'Vítam vás teda v Európskom parlamente.\\n',\n",
       "  'Na celkové hodnotenie súčasnej Agadirskej dohody je priskoro.\\n',\n",
       "  'Táto smernica je však zameraná predovšetkým na veľkých distribútorov a neberie ohľad na vplyv, ktorý by to mohlo mať na rozpočet malých a stredných podnikov (MSP), ktoré vyrábajú EEZ, a neponúka nové riešenia v porovnaní s nariadením ani správou BioIntelligence, v ktorej sa uvádza, že v rámci tohto nového systému budú pravdepodobne čeliť problémom MSP, ktoré vyrábajú zariadenia lekárskeho dohľadu a monitorovacie zariadenia.\\n',\n",
       "  'Žiadna.\\n',\n",
       "  'Ja tu vidím staršiu generáciu politikov, ktorá ešte stále lipne na postojoch z 50. rokov a v štýle 50. rokov chce riešiť aj problémy a úlohy, ktorým svet čelí.\\n',\n",
       "  'Napriek tomu sme sa budovaním lojálnej medziinštitucionálnej spolupráce, ktorá sa rozvinula v ostatných dvoch desaťročiach, dokázali zhodnúť na súbore prechodných opatrení, ktoré umožnia, aby rozpočet na rok 2010 efektívne fungoval.\\n',\n",
       "  'Je zrejmé, že demokracia na Ukrajine pokračuje v procese konsolidácie.\\n',\n",
       "  'Inými slovami, každý európsky občan má svoj podiel zodpovednosti pri zabezpečení toho, aby menšiny mohli slobodne a bez obmedzení používať svoj materinský jazyk a aby sa vo svojej rodnej krajine cítili ako doma.\\n',\n",
       "  'Napokon k otázke zdrojov: súhlasím s pánom Martinom, že potrebujeme dostatočné zdroje, hoci nepotrebujeme zdroje na tento konkrétny predmet environmentálnych ekonomických účtov.\\n',\n",
       "  'Teší ma, že sa zavedie zjednodušenie oprávnenosti výdavkov s retroaktívnym účinkom.\\n',\n",
       "  'Každopádne tento proces, žiaľ, stroskotal.\\n',\n",
       "  'Z tohto dôvodu sa vážený pán predsedajúci domnievame, že zraniteľné skupiny by vo všetkých členských štátoch mali využívať výhody sociálnej pomoci, rovnosti príležitostí a okrem toho aj výhody osobitných programov umožňujúcich rozvoj regiónov, z ktorých prichádzajú.\\n',\n",
       "  'Európska komisia nedávno dokončila podrobný prieskum dodržiavania ľudských práv na Srí Lanke.\\n',\n",
       "  'Ako ste poukázali, v dôsledku chýbajúceho rámca sa manželské páry buď snažia vyhľadať čo najvýhodnejšie právne postavenie, alebo má posledné slovo dominantný partner.\\n',\n",
       "  'Usilujeme sa o kombináciu financovania z množstva zdrojov, najmä celoštátnych a regionálnych zdrojov a z Európskej investičnej banky.\\n',\n",
       "  'Komisia naozaj veľmi pozorne sleduje projekt plynovodu Nord Stream.\\n',\n",
       "  'Tento návrh nariadenia je výsledkom žiadosti Európskeho parlamentu určenej Komisii o vytvorenie právneho záväzku poskytnúť európskym občanom údaje o energii na európskej úrovni periodicky a v primeraných termínoch.\\n',\n",
       "  'Minulý týždeň predseda najsilnejšej maďarskej politickej strany Fidesz pán Orban pri návšteve Slovenska vyzval maďarskú menšinu k autonomistickým iniciatívam.\\n',\n",
       "  'Nespomína sa tu produktivita ani naše zdroje.\\n',\n",
       "  'Ona nemá žiadnu prax z ministerstva zahraničných vecí, nebola ministerkou zahraničných vecí a myslím si, že nikdy nepracovala ani len ako brigádnička v cestovnej kancelárii.\\n',\n",
       "  'V procese výroby ropy z rias sa vyprodukuje oveľa menšie množstvo CO2, a preto majú ropné spoločnosti a iné firmy veľký záujem investovať práve do tohto typu technológií.\\n',\n",
       "  'Ak chceme zaistiť, aby to takto ďalej nepokračovalo, bude potrebné konanie zo strany vnútroštátnych regulačných orgánov a orgánov hospodárskej súťaže.\\n',\n",
       "  'Pri dosahovaní dohody počítame s neustálou podporou Parlamentu.\\n',\n",
       "  '(NL) Vážený pán predsedajúci, rád počujem, že existuje európska zhoda o humanitárnej pomoci, a žiaden rozumný človek by samozrejme neprotestoval proti pomoci krajinám, ktoré ju naozaj potrebujú.\\n',\n",
       "  'Som veľmi rád, že sa zhodneme na budúcom vývoji Čiernej Hory na jej ceste k Európskej únii.\\n',\n",
       "  'Je preto neprípustné predložiť dnes správu, ktorá obhajuje vstup Kosova do EÚ.\\n',\n",
       "  'Návrh na založenie skupiny však nie je úplný.\\n',\n",
       "  'Chcel by som vysvetliť, prečo som, a to zámerne a po dohode s francúzskym predsedníctvom, ktoré odviedlo vynikajúcu prácu - chcel som to povedať neformálne -, prečo (aby som zostal pri téme automobilov) som urýchlil zaistenie dosiahnutia tejto dohody, alebo obrazne vyjadrené, prečo som dupol na plyn.\\n',\n",
       "  'Inak bude mať výsledok dnešného hlasovania len emocionálnu rovinu.\\n',\n",
       "  'Tisíckrát vďaka a gratulujem k výsledku referenda.\\n',\n",
       "  'Chcela by som tiež uviesť, že Komisia prijala veľa opatrení na zabezpečenie udržateľného riadenia a ochrany žralokov vo všeobecnosti, nielen pokiaľ ide o odstraňovanie plutiev.\\n',\n",
       "  'Tiež by som chcel zdôrazniť, že podľa mňa je vhodné zapracovať do budúcich návrhov Komisie pružné pravidlá, ktoré umožnia poskytnutie pomoci aj poľnohospodárom v oblastiach pod vplyvom znevýhodnených prírodných podmienok s malou rozlohou nachádzajúcich sa z administratívneho hľadiska v jednotkách, ktoré nespĺňajú stanovené kritériá.\\n',\n",
       "  'Dovoľte mi vyjadriť francúzskemu predsedníctvu moje uznanie za organizovanie konferencie Európa proti Alzheimerovej chorobe a za aktívnu úlohu, ktorú predsedníctvo prevzalo.\\n',\n",
       "  'Mám len jednu otázku.\\n',\n",
       "  'Nemôžeme súhlasiť s použitou metodikou alebo časovými škálami, pani Lichtenbergerová, ale v zásade súhlasíme, že odvetvie leteckej dopravy by malo prispieť svojím dielom k zmierneniu vplyvu na životné prostredie.\\n',\n",
       "  'Toto odporúčanie Rade bolo mimoriadne dôležité z hľadiska poskytnutia čo najväčšej právnej istoty pacientom, aby mohli uplatňovať svoje práva súvisiace s cezhraničnou zdravotnou starostlivosťou v praxi, ako konštatoval Európsky súdny dvor.\\n',\n",
       "  'Prisťahovaleckí pracovníci budú mať taktiež možnosť priviesť si svoje rodiny v rámci skráteného postupu. Týmto spôsobom sa podporuje zjednotenie rodiny bez pozastavenia sa nad tým, aký rozsiahly a nebezpečný proces to v skutočnosti je.\\n',\n",
       "  '(DE) Vážená pani predsedajúca, papier môže byť všestranne užitočný, no je čoraz jasnejšie, že prestal byť dostatočne informatívny.\\n',\n",
       "  'Ako viete, Európsky parlament sa chystá prijať uznesenie o dohode ACTA, pričom to však stále vyvoláva značné nepokoje a aj medzi našimi občanmi na to zďaleka nepanuje jednoznačný súhlasný názor. Myslím si preto, že by pre nám pomohlo, keby sme mali od vyjednávačov USA jasnú odpoveď ku dvom bodom.\\n',\n",
       "  'Mnohí z popredných vládnych predstaviteľov sú nezvestní.\\n',\n",
       "  'Správa zdôrazňuje dôležitosť kolektívneho vyjednávania v boji proti diskriminácii žien predovšetkým v oblasti prístupu k zamestnaniu, platov, pracovných podmienok, kariéry a profesijného vzdelávania.\\n',\n",
       "  'Čína si zachovala svoje kultúrne tradície a hodnoty.\\n',\n",
       "  'Musí sa preto využiť a zdokonaliť celý vývojový potenciál.\\n',\n",
       "  'Vzhľadom na to, že až do minulého roku sa politickí zástancovia deregulácie a propagátori vládnej regulácie vychvaľovali stavom hospodárstva, dovoľte mi pripomenúť, že práve tieto politiky vyústili do veľkej chudoby a nerovnosti, zápornej miery rastu hospodárstva a obohacovania sa potravinárskych spoločností, ktoré v roku 2008 dosiahli zisk 40 miliárd.\\n',\n",
       "  'Som však sklamaná, že spoločne dohodnutý text, ktorý schválili poslanci Európskeho parlamentu i parlamentov krajín AKT na zasadaniach AKT - EÚ v Kigali, boli v Štrasburgu náhle odmietnuté skupinou PPE-DE a skupinou liberálov.\\n',\n",
       "  'Nespomína sa v nej, že na jeseň v roku 2006 polícia na základe pokynov vlády zranila, uväznila a podrobila falošnému trestnému konaniu niekoľko stoviek mierumilovných chodcov a demonštrantov, ktorí si pripomínali významnú udalosť.\\n',\n",
       "  'Zároveň sa stotožňujem s názorom, že by sme sa nemali vystaviť riziku, že členské štáty vystúpia zo schémy.\\n',\n",
       "  '(SK) Tento rok, keď oslavujeme 10. výročie eura, 1. januára 2009 sa Slovensko stalo 16. členom eurozóny.\\n',\n",
       "  'Po prvé, sme znepokojení dôsledkami súdneho procesu proti politickej strane AK.\\n',\n",
       "  'Nový štatút pre poslancov, na ktorom sme pracovali mnoho rokov, vstúpi do platnosti v novom volebnom období.\\n',\n",
       "  'Preto vyzývame kambodžské orgány, aby vykonali odporúčania osobitného spravodajcu OSN pre ľudské práva v Kambodži.\\n',\n",
       "  'Najmenej piati ľudia zomreli a stovky ich bolo zranených.\\n',\n",
       "  'Vítam túto správu, ktorá tvrdí, že verejné zdravie je nevyhnutné pre spoločné dobro.\\n',\n",
       "  'Dovoľte mi teraz prejsť k niektorým záležitostiam, ktoré ste otvorili v návrhu uznesenia a ktoré sa spomínali v správe.\\n',\n",
       "  'Presne tak ako v prípade záplav by ste mali preskúmať možnosť prijatia smernice o ochrane pred rizikom vzniku požiarov.\\n',\n",
       "  'Výbor pre rozvoj navrhol režim podávania správ podľa jednotlivých krajín, aby museli nadnárodné korporácie podávať správy podľa jednotlivých krajín.\\n',\n",
       "  'písomne. - (FR) Hlasujeme za toto uznesenie v nádeji, že sa ochráni čo najviac záujmov cestujúcich v leteckej doprave, pokiaľ ide o súčasný stav vecí (liberalizácia služieb v oblasti dopravy, nárast počtu leteckých spoločností).\\n',\n",
       "  'Gruzínsko je dnes schopné usporiadať také voľby.\\n',\n",
       "  'Je to prázdna výhovorka pre krajiny, ktoré sa snažia ospravedlniť skladovanie kazetových bômb ako súčasť dodržovania zákazu nášľapných mín, keď kazetová munícia je rovnako smrtiaca a na svete spôsobila ešte väčšie humanitárne škody.\\n',\n",
       "  '(DE) Vážený pán predseda, nepožiadala som o slovo preto, aby som vzniesla procedurálnu námietku, ale preto, že by som vás, pán predseda, a našich kolegov poslancov chcela upozorniť na problém v preklade.\\n',\n",
       "  'Mohli sme, samozrejme, tomuto sektoru prideliť viac peňazí, ako to navrhovali zástupcovia sociálnodemokratickej strany, ale je dobré, že preň boli v tomto návrhu rozpočtu vyčlenené aspoň nejaké prostriedky.\\n',\n",
       "  'Jeho členovia mali zjavne radosť z náročnej práce.\\n',\n",
       "  'písomne. - (BG) Bránim výsady a imunitu Bruna Gollnischa a myslím si, že stíhanie, ktorému bol vystavený, je výlučne politického charakteru.\\n',\n",
       "  'Samotné postavenie migranta znamená diskrimináciu a nerovnosť a prispieva k prísnejším trestom za rovnaký trestný čin.\\n',\n",
       "  'Po tom bude nasledovať konferencia v septembri pod švédskym predsedníctvom na tému \"Zdravé a dôstojné starnutie\", ktorej súčasťou bude seminár o koordinácii starostlivosti o osoby trpiace Alzheimerovou chorobou a inými demenciami.\\n',\n",
       "  '(potlesk)\\n',\n",
       "  'Preto verím, že Komisia bude poučená a bude v tejto oblasti postupovať svedomito, pretože trestné právo nie je nástrojom ku každodennému použitiu, ale až tým posledným prostriedkom k vynucovaniu práva.\\n',\n",
       "  'Minulý rok, v septembri 2007, Komisia predložila Európskemu parlamentu a Rade správu hodnotiacu systém, v ktorej bola v podstate preukázaná jeho užitočnosť.\\n',\n",
       "  'Vážený pán predsedajúci, vážené pani poslankyne, vážení páni poslanci, som veľmi rád, že môžem povedať, že vaša správa víta oznámenie Komisie a podporuje prvý súbor možností politiky pre opatrenia, ktoré ustanovuje.\\n',\n",
       "  'Ak bude táto politika pre Európsku úniu prijateľná, vyhneme sa všetkým zakopnutiam pri uzatváraní dvojstranných dohôd a obchádzaniu ich susedov v Európskej únii.\\n',\n",
       "  'Napriek všetkej kritike, ktorá bola práve adresovaná tejto politike a s ktorou sa stotožňujem, som naďalej presvedčený, že to, čo sa osvedčilo v minulosti, by nás malo sprevádzať pri našich krokoch aj v budúcnosti.\\n',\n",
       "  '(potlesk)\\n',\n",
       "  'Mohla by zohrávať veľmi pozitívnu úlohu pri cieľoch vytvárania bohatstva a v hospodárskych a politických vzťahoch medzi národmi a krajinami Európy a Latinskej Ameriky.\\n',\n",
       "  'Musíme sa zaoberať skutočným spôsobom, ako ľudí zamestnať, a to na reálnych pracovných miestach.\\n',\n",
       "  'Štrukturálne reformy nemôžeme realizovať bez nových podnikov, pretože ľudia nie sú schopní opustiť svoju súčasnú prácu a ísť na nové pracovné miesta, čo by mohlo vytvoriť pôdu pre sociálne nepokoje.\\n'],\n",
       " 'cs': ['Upozorňujeme, že jejím cílem je šetřit penězi za administrativní výdaje.\\n',\n",
       "  'Zcela otevřeně přiznám, že ne vždy rozumím extrémně složitým vědeckým analýzám, které dostávám.\\n',\n",
       "  'Při práci na této zprávě bylo třeba, abych pracovala právě s touto \"představivostí\".\\n',\n",
       "  'A nakonec, plně podporuji myšlenku sjednotit vědeckovýzkumný sektor v energetické oblasti, jakožto klíčový prvek dané dlouhodobé politiky.\\n',\n",
       "  'To je vážná věc.\\n',\n",
       "  'Z tohoto hlediska zcela souhlasím s připomínkami pana Verheugena.\\n',\n",
       "  'Rozprava je ukončena.\\n',\n",
       "  'Vzhledem k významu, které má stavebnictví pro evropské hospodářství, je nutné odstranit technické překážky bránící obchodu se stavebními výrobky v zájmu zlepšení jejich volného pohybu na vnitřním trhu.\\n',\n",
       "  'V roce 2009 je to popáté, kdy byly z tohoto fondu uvolněny prostředky, přičemž byla využita celková částka 53 milionů EUR z plánované výše 500 milionů EUR.\\n',\n",
       "  'Ve svém vystoupení bych chtěla ocenit návrhy paní zpravodajky Anny Záborské, které doporučují uznat vedle tradiční oficiální výdělečné činnosti i mnohé formy činnosti nevýdělečné, která se v rámci solidarity mezi generacemi vykonává v rodinách.\\n'],\n",
       " 'en': ['I can understand your approach a little bit.\\n',\n",
       "  'Membership of Parliament: see Minutes\\n',\n",
       "  'The establishment of a joint EU resettlement programme (\\n',\n",
       "  'Decentralisation is very important for sustainable energy.\\n',\n",
       "  'A majority rejected these solutions and wishes to stay in Bosnia.\\n',\n",
       "  '(RO) At the start of the year, the unemployment rate reached 10%, while the deficit has grown in numerous Member States.\\n',\n",
       "  'We are, as honourable Members know, supporting projects worldwide in the fight against racism, xenophobia or discrimination on any ground.\\n',\n",
       "  'Agenda for next sitting: see Minutes\\n',\n",
       "  'In addition, communities should be supported both financially and by specific solutions on the regional level, in order to improve the level of communal services.\\n',\n",
       "  'This includes all commercial aspects of exploitation as well as the legal, contractual and financing structures of the different exploitation models that will ensure that a stable governance model is put into place.\\n',\n",
       "  'Therefore, it is high time that we start acting decisively and collectively on ways to counter this new, very catastrophic, form of terrorism in Europe.\\n',\n",
       "  \"The integration which we hear so much about must not consist of our dispensing with Christmas, Easter, St. Nicholas's day and so forth in our kindergartens and schools in an attempt to accommodate Muslim immigrants, for this would result in a loss of our cultural identity.\\n\",\n",
       "  'It is strange, is it not, in an age in which personal identity is being jealously guarded and identity theft is regarded as the crime it is, that some people thoughtlessly seek to destroy the unique identity of the institutions which made them what they are, denying others the education they acquired there?\\n',\n",
       "  'I therefore congratulate the Court of Auditors on its excellent performance in 2009 and agree with the rapporteur with regard to all his conclusions.\\n',\n",
       "  'But what happened in the 10 years between 1998 and 2008, when the euro was in situ and Mr Trichet and his predecessors were pursuing their policies, was that almost 16 million jobs were created.\\n',\n",
       "  'She has been a good leader in the negotiations and has also listened to the other groups.\\n',\n",
       "  'EU citizens must be very careful when purchasing medicines online, because here the chances of acquiring falsified medicines increases by up to 50%.\\n',\n",
       "  'We have no desire to keep talking to a brick wall.\\n',\n",
       "  'Trafficking in people, including children, for money, for pleasure, for organs, is increasing with each year that passes.\\n',\n",
       "  'Finally - I am about to conclude, Mr President - I would like to mention our insistence on the application and implementation of measures that have already been announced, be it the Institute for Equality, the Centre on Violence or the full application of existing directives, so that we can make the emancipation of women and their personal and professional fulfilment the central goal of our initiative and the strategy itself.\\n',\n",
       "  \"They are often held together by force, and the army's power is great.\\n\",\n",
       "  'This affects ports and the hinterland in particular, which have been neglected in recent years and now form the main focus of this report.\\n',\n",
       "  '(IT) Mr President, Commissioner, Minister, ladies and gentlemen, through this new regulation on textile product labelling, which we will vote on in plenary tomorrow, Europe will reach an objective it has been pursuing for years.\\n',\n",
       "  'What we are currently experiencing, Mr President, is not, in my opinion, a monetary crisis in the Union, it is not even a crisis of our single currency; rather, it is a crisis of EU governance.\\n',\n",
       "  'Mr Mladenov and others have pointed out that the responsibility for security, that is to say for establishing a secure situation in Iraq, rests primarily with the Iraqi authorities.\\n',\n",
       "  'Experience from the first assessment of the national action plans demonstrates in practice that conditions in the EU have not yet matured to the point at which measures to promote energy efficiency can be supported.\\n',\n",
       "  'On his behalf, I thank the Commissioner for his answer to the question.\\n',\n",
       "  'It really does look like we only pay attention to the interests of financial institutions, to speculators and to big business.\\n',\n",
       "  'The ICTY has shown that no one, whatever their position or status at the time of the conflict, is immune from justice - a precedent that now sees the International Criminal Court promote respect for human rights across our world.\\n',\n",
       "  'Why do we need it?\\n',\n",
       "  'I hope that the Austrian Federal Government will soon find a fair solution that satisfies the eminently well protected Slovenian minority in Austria.\\n',\n",
       "  'Moreover, I was informed that you wished to speak on a different subject.\\n',\n",
       "  'We have been told that it was not a NATO vessel, that it was not the Charles de Gaulle.\\n',\n",
       "  'I hope, Madam Commissioner, that you will be returning to the Commission and that in the new Parliament session you will bring forward a proposal on needle-stick injuries, which is very important for many health-care workers and is a very avoidable problem in our health-care system.\\n',\n",
       "  \"(IT) Madam President, when, a century ago, Antonio Meucci's patent was not recognised by the American telephony industry, it was not because of a lack of English or his use of Italian, but instead the failure to meet a condition: he did not have the money to register his patent for another year.\\n\",\n",
       "  'Where Mikhail Khodorkovsky and Platon Lebedev are concerned, I would state that these individuals must at last be freed - otherwise the state visit by the Russian President to the European Parliament will take place under a huge cloud.\\n',\n",
       "  'We welcome cooperation between Member States in dealing with these huge problems.\\n',\n",
       "  'This is the challenge facing us.\\n',\n",
       "  'If there are not 27 of us to make up this civil protection force, let us start with 12 or 15 of us.\\n',\n",
       "  \"(FR) Mr President, I would like to continue with the argument from my speech yesterday on the preparations for the Copenhagen summit, and then mention yesterday's Ecofin meeting, which was not hugely successful.\\n\",\n",
       "  'It is true that, when negotiating with you, we always know where we are.\\n',\n",
       "  'I would also like to stress the importance of measures such as the certification of skills, professional training, incentives for job creation and the opportunity to gain new experience in the workplace.\\n',\n",
       "  'They produce forged notes and coins of such high quality, which even have imitations of the security features, that the man on the street is easily taken in by the forged 50-euro notes.\\n',\n",
       "  \"Highlighting the synergies between the different agents involved, developing young people's independence, taking action to stop young people leaving education early, reasserting the importance of vocational training and apprenticeships, adopting a binding European quality framework for training schemes: these are the kinds of good ideas that it is important for us to air now at national level.\\n\",\n",
       "  'Mr Brok, what is the difference between the Goldstone report and the resolution that followed?\\n',\n",
       "  'Otherwise, the legitimate call for respect for a minority is in danger of turning into a form of reverse discrimination, to the detriment of all those honest citizens who suffer the crimes and abuses of many Roma.\\n',\n",
       "  'The directive takes into consideration the specific social circumstances of the individual Member States.\\n',\n",
       "  \"How does the Czech Presidency assess today's vote in Parliament with regard to the European creative artists who want to protect their rights on the Internet?\\n\",\n",
       "  'Important progress has been made, but it is still not enough.\\n',\n",
       "  'I would also like to congratulate, in particular, Mr Barrot and his services for this procedure to push forward the preparation of the legislation.\\n',\n",
       "  'The European Union is back on its feet.\\n',\n",
       "  'I would like to congratulate Mrs Meissner on this positive report.\\n',\n",
       "  'Obviously that does not set a precedent for the future, because all the really important issues concerning the changes to the Treaty, such as for example the electoral procedure, would require the convening of a convention.\\n',\n",
       "  'What are the national governments waiting for?\\n',\n",
       "  'I would like to mention one further point that was important in the debate regarding whether or not we should vote in favour.\\n',\n",
       "  '(PL) Mr President, Mr Diamandouros, as in previous years, the Ombudsman has presented a very objective report of his activities, from which can be established how important his mission is for the citizens of the European Union.\\n',\n",
       "  'The debate is closed.\\n',\n",
       "  'I voted in favour of it and I consider it to be excellent.\\n',\n",
       "  '(IT) Mr President, ladies and gentlemen, the principal actions planned for 2009 can mainly be supported, as regards the growth and jobs provided for by the Lisbon Strategy.\\n',\n",
       "  'This poses an enormous challenge to the political system in the European Union and the Member States.\\n',\n",
       "  'These instruments have proven popular with consumers and producers alike.\\n',\n",
       "  'Ladies and gentlemen, your Excellencies, ladies and gentlemen.\\n',\n",
       "  \"Since I know this is a matter of political concern, let me add a final comment on Hungary's media law.\\n\",\n",
       "  'The Martin report is the best example of this approach.\\n',\n",
       "  'Yet again, the small-business entrepreneur is being targeted and disadvantaged by bureaucratic interference and overregulation.\\n',\n",
       "  'It is very kind of you to mention this.\\n',\n",
       "  'I should like to see the EU push further ahead with this in the context of climate protection, and I hope that we can convince all the other major competing airlines to join this agreement.\\n',\n",
       "  'I want to thank you also for having very generously given the Commission the possibility, for 2008, of straight away having EUR 10 000 more in the budget for the Palestinians.\\n',\n",
       "  'The points that we think are important are also mentioned in the resolution that is currently on the table.\\n',\n",
       "  'Particularly distressing is the unannounced limited access to interpretation during hearings or voting when discussing verbal amendments.\\n',\n",
       "  'I have problems with Turkey when I look at its behaviour towards Berlin and when I consider Cyprus, religious freedom, freedom of opinion, the ban on political parties and similar issues.\\n',\n",
       "  \"This is an essential part of the EU's ability to accept new Member States, and also a factor in increasing trust in Europe among its citizens.\\n\",\n",
       "  'We need to find a certain balance, which will safeguard both the rights of patients - who are not merely consumers - to cross-frontier care, and equal access for all to quality care, with solidarity-based responsibility; to ensure social and territorial cohesion and respect for the principle of subsidiarity.\\n',\n",
       "  'It is important that all the Member States pursue the declared objectives both jointly and individually, so that a high level of employment and productivity can be achieved in Europe.\\n',\n",
       "  'There is unjustified use of the issue of loss of employability.\\n',\n",
       "  \"European viticulture is the last part of our agricultural policy that is still not reformed and still works on the principle of 'the higher the yield, the more money from Brussels'.\\n\",\n",
       "  'But it is also worth pointing out that our development aid in the past did focus on agriculture and food production, as other speakers have mentioned, and, tragically, in latter years we have drawn away from looking at the importance of production agriculture in the developing world.\\n',\n",
       "  'Although it has occurred in the United States, i.e. under American regulatory requirements and standards, we must all learn some lessons from it and prevent any similar accidents.\\n',\n",
       "  '(HU) Mr President, the fact that we have avoided a poor compromise on the issue of climate change is very important.\\n',\n",
       "  'We are growing increasingly concerned about the progress of the democratisation process in Turkey.\\n',\n",
       "  'Thirdly, the legal authority of producer organisations must be significantly improved.\\n',\n",
       "  'I am among those who are fiercely attached to the spirit of the Barcelona Process, who believe that progress is not measured solely by trade statistics, which are, incidentally, still too unfavourable to our partners from the South, to their populations.\\n',\n",
       "  'A monument commemorating the soldiers of the murderous Waffen SS Galizien Division was unveiled there.\\n',\n",
       "  'The report by Mr Toubon is an accurate report which sets out the areas on which EU legislation and policy should concentrate to improve the operation of the internal market.\\n',\n",
       "  'Does a political agreement refer to a first-reading agreement or to preparations for an early second-reading agreement under the French Presidency?\\n',\n",
       "  'I welcome this, and it means we can also be happy with the result.\\n',\n",
       "  '(FR) Madam President, I hope that I have responded to all the comments, and I would like once again to thank all Members for their words of encouragement, and also to congratulate you, Madam President, as the Commissioner has already done, for the important initiative aiming to approve a joint register for Parliament and the Commission.\\n',\n",
       "  \"All's well that ends well.\\n\",\n",
       "  'The debate is closed.\\n',\n",
       "  'While very keen to see healthy eating habits promoted among youngsters in the UK and the EU, we have reservations about the budgetary allocations proposed in this report, which are considerably greater than the EUR 90 million proposed by the Commission.\\n',\n",
       "  '(SK) I will try to be brief, in order to keep to the limit.\\n',\n",
       "  'Of course, these provisions must not merely exist on paper, but must also be applied in practice in a consistent manner throughout Europe.\\n',\n",
       "  'And that will provide much stronger tools and infrastructure to carry out the tests next time in a more unified, rigorous and coherent manner.\\n',\n",
       "  'President of the European Commission. - Let me also start by conveying, on behalf of the Commission, our fullest admiration, respect and solidarity with the Japanese people.\\n',\n",
       "  'We are now seven years into the process.\\n',\n",
       "  'I was one of the first people from our group to witness this within the Committee on Employment and Social Affairs, and I thank you warmly.\\n',\n",
       "  'We are acting within the scope of our prerogatives and we therefore expect the Council to adopt a responsible political attitude that is similar to our own.\\n',\n",
       "  'Orlando Zapata, a Cuban political prisoner, died having staged a hunger strike.\\n',\n",
       "  'I would like once more to make it quite clear that the use of these weapons, including in countries where the European Union has police and military forces in operation, such as Afghanistan, Bosnia and the Democratic Republic of Congo, represent just as much of a danger to our mission as to the people themselves.\\n',\n",
       "  'I am grateful to Parliament for what it has already done and for what it will do in the future, now that it will colegislate on the area of justice and security.\\n']}"
      ]
     },
     "execution_count": 7,
     "metadata": {},
     "output_type": "execute_result"
    }
   ],
   "source": [
    "data_raw"
   ]
  },
  {
   "cell_type": "code",
   "execution_count": 10,
   "metadata": {},
   "outputs": [],
   "source": [
    "def show_statistics(data):\n",
    "    for language, sentences in data.items():\n",
    "        \n",
    "        no_sen = 0\n",
    "        no_words = 0\n",
    "        unique_words = 0\n",
    "        sample_extract = ''\n",
    "        \n",
    "        word_list = ' '.join(sentences).split()\n",
    "        \n",
    "        no_sen = len(sentences)\n",
    "        no_words = len(word_list)\n",
    "        unique_words = len(set(word_list))\n",
    "        sample_extract = ' '.join(sentences[0].split()[0:7])\n",
    "        \n",
    "        print(f'Language: {language}')\n",
    "        print('-----------------------')\n",
    "        print(f'Number of sentences\\t:\\t {no_sen}')\n",
    "        print(f'Number of words\\t\\t:\\t {no_words}')\n",
    "        print(f'Number of unique words\\t:\\t {unique_words}')\n",
    "        print(f'Sample extract\\t\\t:\\t {sample_extract}...\\n')"
   ]
  },
  {
   "cell_type": "code",
   "execution_count": 11,
   "metadata": {},
   "outputs": [
    {
     "name": "stdout",
     "output_type": "stream",
     "text": [
      "Language: sk\n",
      "-----------------------\n",
      "Number of sentences\t:\t 100\n",
      "Number of words\t\t:\t 2016\n",
      "Number of unique words\t:\t 1322\n",
      "Sample extract\t\t:\t Pán de Grandes Pascual jasne vysvetlil, aká...\n",
      "\n",
      "Language: cs\n",
      "-----------------------\n",
      "Number of sentences\t:\t 10\n",
      "Number of words\t\t:\t 158\n",
      "Number of unique words\t:\t 141\n",
      "Sample extract\t\t:\t Upozorňujeme, že jejím cílem je šetřit penězi...\n",
      "\n",
      "Language: en\n",
      "-----------------------\n",
      "Number of sentences\t:\t 100\n",
      "Number of words\t\t:\t 2381\n",
      "Number of unique words\t:\t 1037\n",
      "Sample extract\t\t:\t I can understand your approach a little...\n",
      "\n"
     ]
    }
   ],
   "source": [
    "show_statistics(data_raw)"
   ]
  },
  {
   "cell_type": "code",
   "execution_count": 12,
   "metadata": {},
   "outputs": [
    {
     "data": {
      "image/png": "[encoded data removed]",
      "text/plain": [
       "<Figure size 432x288 with 1 Axes>"
      ]
     },
     "metadata": {},
     "output_type": "display_data"
    }
   ],
   "source": [
    "do_law_of_zipf(data_raw)"
   ]
  },
  {
   "cell_type": "markdown",
   "metadata": {},
   "source": [
    "### STEP 02 - Data Cleaning & Preprocessing"
   ]
  },
  {
   "cell_type": "code",
   "execution_count": 13,
   "metadata": {},
   "outputs": [],
   "source": [
    "def preprocess(text):\n",
    "    '''\n",
    "    The objective here is to remove punctuation, converting everything to lower case and get rid of punctuations and digits\n",
    "    '''\n",
    "    \n",
    "    processed = text\n",
    "    processed = processed.lower().replace('-',' ')\n",
    "    translation_table = str.maketrans('\\n',' ',string.punctuation + string.digits)\n",
    "    processed = processed.translate(translation_table)\n",
    "    \n",
    "    return processed"
   ]
  },
  {
   "cell_type": "code",
   "execution_count": 14,
   "metadata": {},
   "outputs": [],
   "source": [
    "processed_data = {k : [preprocess(sentence) for sentence in v] for k, v in data_raw.items()}"
   ]
  },
  {
   "cell_type": "code",
   "execution_count": 15,
   "metadata": {},
   "outputs": [
    {
     "data": {
      "text/plain": [
       "{'sk': ['pán de grandes pascual jasne vysvetlil aká je pridaná hodnota definície terorizmu vyjadrením že definícia ktorú sme používali predtým bola dôležitejšia ale aj tým že trval na zozname priestupkov ',\n",
       "  'keby sme sa nepokúsili o nemožné ako by sme mohli dosiahnuť zmenu ',\n",
       "  'oznámil že budúci týždeň sa zúčastní schôdze výboru pre zahraničné veci ',\n",
       "  'niekedy by sa mohlo zdať že ide o hru alebo pokrytectvo ',\n",
       "  'jej účelom je tiež identifikovať akékoľvek slabé miesta v systéme a právne nedostatky súdnej spolupráce v trestných veciach aby sa európskym zákonodarcom poskytli všetky informácie potrebné na správne politické a regulačné hodnotenie ',\n",
       "  'na dosiahnutie tohto cieľa je mimoriadne dôležité aby členské štáty zaviedli prijaté opatrenia a úzko spolupracovali ',\n",
       "  'fr pani predsedajúca pán predseda barroso nám stanovil náročný cieľ v oblasti výroby obnoviteľnej energie s cieľom znížiť emisie skleníkových plynov bez toho aby sa brzdili naše vyhliadky na rast ',\n",
       "  'táto požiadavka však nie je dostatočne prísne formulovaná pokiaľ ide o vzťahy s ruskom ',\n",
       "  'spravodajca   vážená pani predsedajúca diskusia a výroky mojich kolegov ma ešte väčšmi utvrdili v presvedčení že sú potrebné pravidlá že sú potrebné silné požiadavky ktoré by sa mohli stať povinnými že je potrebná silná agentúra ',\n",
       "  'nemusíme ju vyvolávať násilne vydávaním právnych predpisov ',\n",
       "  'v spojených štátoch amerických je ich dosť ',\n",
       "  'pripravujeme sa na rýchly návrat k tým istým politikám ktoré prispeli ku kríze robíme to v mene takzvanej životaschopnosti verejných financií ale na úkor potenciálnej obnovy a kúpnej sily domácností ',\n",
       "  'da vážená pani predsedajúca nie som žiadny antifederalista ',\n",
       "  'je urážajúce a potupné že sedíme so založenými rukami ',\n",
       "  'druhý bod o ktorom chcem hovoriť je orientovaný viac na budúcnosť ',\n",
       "  'táto správa dokonca pridáva ubezpečenie o dôvere v samoregulačné prednosti trhu a tvári sa že verí tomu že sa môže stať etickejší ',\n",
       "  'túto zraniteľnosť obmedzuje možno dokonca priamo zastavuje kolegiálny systém ktorý je podľa mňa stále len krokom správnym smerom nie však reálnym riešením ',\n",
       "  'dúfam že mexickí zákonodarcovia čoskoro zlepšia všeobecný zákon o práve žien na život bez násilia s cieľom riadne vymedziť rozličné formy násilia a mechanizmy uplatňovania zákonov ',\n",
       "  'v tomto duchu sa vymenovanie osôb z ktorých je dvor audítorov zložený musí riadiť kritériami spôsobilosti a nezávislosti ',\n",
       "  'naliehavo potrebné sú dlhodobé programy na ochranu svedkov ',\n",
       "  'chcem aby sme boli svedkami zvyšovania cien uhlíka aby sme v budúcnosti smerovali k nízkouhlíkovým investíciám ',\n",
       "  'na účinný boj proti zmene klímy potrebujeme v kodani dosiahnuť minimálne   ',\n",
       "  'a to už  rokov ',\n",
       "  'írsko o ratifikácii rozhodlo na základe referenda v ktorom írski občania zmluvu odmietli ',\n",
       "  'nejaké plány sú zavedené a môžem povedať iba toľko že bolo odstránené ustanovenie o revízii v ktorom sa hovorilo že po roku  budeme musieť znovu otvárať pandorinu skrinku v najväčšom postihnutom členskom štáte inými slovami v nemecku ',\n",
       "  'vítam vás teda v európskom parlamente ',\n",
       "  'na celkové hodnotenie súčasnej agadirskej dohody je priskoro ',\n",
       "  'táto smernica je však zameraná predovšetkým na veľkých distribútorov a neberie ohľad na vplyv ktorý by to mohlo mať na rozpočet malých a stredných podnikov msp ktoré vyrábajú eez a neponúka nové riešenia v porovnaní s nariadením ani správou biointelligence v ktorej sa uvádza že v rámci tohto nového systému budú pravdepodobne čeliť problémom msp ktoré vyrábajú zariadenia lekárskeho dohľadu a monitorovacie zariadenia ',\n",
       "  'žiadna ',\n",
       "  'ja tu vidím staršiu generáciu politikov ktorá ešte stále lipne na postojoch z  rokov a v štýle  rokov chce riešiť aj problémy a úlohy ktorým svet čelí ',\n",
       "  'napriek tomu sme sa budovaním lojálnej medziinštitucionálnej spolupráce ktorá sa rozvinula v ostatných dvoch desaťročiach dokázali zhodnúť na súbore prechodných opatrení ktoré umožnia aby rozpočet na rok  efektívne fungoval ',\n",
       "  'je zrejmé že demokracia na ukrajine pokračuje v procese konsolidácie ',\n",
       "  'inými slovami každý európsky občan má svoj podiel zodpovednosti pri zabezpečení toho aby menšiny mohli slobodne a bez obmedzení používať svoj materinský jazyk a aby sa vo svojej rodnej krajine cítili ako doma ',\n",
       "  'napokon k otázke zdrojov súhlasím s pánom martinom že potrebujeme dostatočné zdroje hoci nepotrebujeme zdroje na tento konkrétny predmet environmentálnych ekonomických účtov ',\n",
       "  'teší ma že sa zavedie zjednodušenie oprávnenosti výdavkov s retroaktívnym účinkom ',\n",
       "  'každopádne tento proces žiaľ stroskotal ',\n",
       "  'z tohto dôvodu sa vážený pán predsedajúci domnievame že zraniteľné skupiny by vo všetkých členských štátoch mali využívať výhody sociálnej pomoci rovnosti príležitostí a okrem toho aj výhody osobitných programov umožňujúcich rozvoj regiónov z ktorých prichádzajú ',\n",
       "  'európska komisia nedávno dokončila podrobný prieskum dodržiavania ľudských práv na srí lanke ',\n",
       "  'ako ste poukázali v dôsledku chýbajúceho rámca sa manželské páry buď snažia vyhľadať čo najvýhodnejšie právne postavenie alebo má posledné slovo dominantný partner ',\n",
       "  'usilujeme sa o kombináciu financovania z množstva zdrojov najmä celoštátnych a regionálnych zdrojov a z európskej investičnej banky ',\n",
       "  'komisia naozaj veľmi pozorne sleduje projekt plynovodu nord stream ',\n",
       "  'tento návrh nariadenia je výsledkom žiadosti európskeho parlamentu určenej komisii o vytvorenie právneho záväzku poskytnúť európskym občanom údaje o energii na európskej úrovni periodicky a v primeraných termínoch ',\n",
       "  'minulý týždeň predseda najsilnejšej maďarskej politickej strany fidesz pán orban pri návšteve slovenska vyzval maďarskú menšinu k autonomistickým iniciatívam ',\n",
       "  'nespomína sa tu produktivita ani naše zdroje ',\n",
       "  'ona nemá žiadnu prax z ministerstva zahraničných vecí nebola ministerkou zahraničných vecí a myslím si že nikdy nepracovala ani len ako brigádnička v cestovnej kancelárii ',\n",
       "  'v procese výroby ropy z rias sa vyprodukuje oveľa menšie množstvo co a preto majú ropné spoločnosti a iné firmy veľký záujem investovať práve do tohto typu technológií ',\n",
       "  'ak chceme zaistiť aby to takto ďalej nepokračovalo bude potrebné konanie zo strany vnútroštátnych regulačných orgánov a orgánov hospodárskej súťaže ',\n",
       "  'pri dosahovaní dohody počítame s neustálou podporou parlamentu ',\n",
       "  'nl vážený pán predsedajúci rád počujem že existuje európska zhoda o humanitárnej pomoci a žiaden rozumný človek by samozrejme neprotestoval proti pomoci krajinám ktoré ju naozaj potrebujú ',\n",
       "  'som veľmi rád že sa zhodneme na budúcom vývoji čiernej hory na jej ceste k európskej únii ',\n",
       "  'je preto neprípustné predložiť dnes správu ktorá obhajuje vstup kosova do eú ',\n",
       "  'návrh na založenie skupiny však nie je úplný ',\n",
       "  'chcel by som vysvetliť prečo som a to zámerne a po dohode s francúzskym predsedníctvom ktoré odviedlo vynikajúcu prácu   chcel som to povedať neformálne   prečo aby som zostal pri téme automobilov som urýchlil zaistenie dosiahnutia tejto dohody alebo obrazne vyjadrené prečo som dupol na plyn ',\n",
       "  'inak bude mať výsledok dnešného hlasovania len emocionálnu rovinu ',\n",
       "  'tisíckrát vďaka a gratulujem k výsledku referenda ',\n",
       "  'chcela by som tiež uviesť že komisia prijala veľa opatrení na zabezpečenie udržateľného riadenia a ochrany žralokov vo všeobecnosti nielen pokiaľ ide o odstraňovanie plutiev ',\n",
       "  'tiež by som chcel zdôrazniť že podľa mňa je vhodné zapracovať do budúcich návrhov komisie pružné pravidlá ktoré umožnia poskytnutie pomoci aj poľnohospodárom v oblastiach pod vplyvom znevýhodnených prírodných podmienok s malou rozlohou nachádzajúcich sa z administratívneho hľadiska v jednotkách ktoré nespĺňajú stanovené kritériá ',\n",
       "  'dovoľte mi vyjadriť francúzskemu predsedníctvu moje uznanie za organizovanie konferencie európa proti alzheimerovej chorobe a za aktívnu úlohu ktorú predsedníctvo prevzalo ',\n",
       "  'mám len jednu otázku ',\n",
       "  'nemôžeme súhlasiť s použitou metodikou alebo časovými škálami pani lichtenbergerová ale v zásade súhlasíme že odvetvie leteckej dopravy by malo prispieť svojím dielom k zmierneniu vplyvu na životné prostredie ',\n",
       "  'toto odporúčanie rade bolo mimoriadne dôležité z hľadiska poskytnutia čo najväčšej právnej istoty pacientom aby mohli uplatňovať svoje práva súvisiace s cezhraničnou zdravotnou starostlivosťou v praxi ako konštatoval európsky súdny dvor ',\n",
       "  'prisťahovaleckí pracovníci budú mať taktiež možnosť priviesť si svoje rodiny v rámci skráteného postupu týmto spôsobom sa podporuje zjednotenie rodiny bez pozastavenia sa nad tým aký rozsiahly a nebezpečný proces to v skutočnosti je ',\n",
       "  'de vážená pani predsedajúca papier môže byť všestranne užitočný no je čoraz jasnejšie že prestal byť dostatočne informatívny ',\n",
       "  'ako viete európsky parlament sa chystá prijať uznesenie o dohode acta pričom to však stále vyvoláva značné nepokoje a aj medzi našimi občanmi na to zďaleka nepanuje jednoznačný súhlasný názor myslím si preto že by pre nám pomohlo keby sme mali od vyjednávačov usa jasnú odpoveď ku dvom bodom ',\n",
       "  'mnohí z popredných vládnych predstaviteľov sú nezvestní ',\n",
       "  'správa zdôrazňuje dôležitosť kolektívneho vyjednávania v boji proti diskriminácii žien predovšetkým v oblasti prístupu k zamestnaniu platov pracovných podmienok kariéry a profesijného vzdelávania ',\n",
       "  'čína si zachovala svoje kultúrne tradície a hodnoty ',\n",
       "  'musí sa preto využiť a zdokonaliť celý vývojový potenciál ',\n",
       "  'vzhľadom na to že až do minulého roku sa politickí zástancovia deregulácie a propagátori vládnej regulácie vychvaľovali stavom hospodárstva dovoľte mi pripomenúť že práve tieto politiky vyústili do veľkej chudoby a nerovnosti zápornej miery rastu hospodárstva a obohacovania sa potravinárskych spoločností ktoré v roku  dosiahli zisk  miliárd ',\n",
       "  'som však sklamaná že spoločne dohodnutý text ktorý schválili poslanci európskeho parlamentu i parlamentov krajín akt na zasadaniach akt   eú v kigali boli v štrasburgu náhle odmietnuté skupinou ppe de a skupinou liberálov ',\n",
       "  'nespomína sa v nej že na jeseň v roku  polícia na základe pokynov vlády zranila uväznila a podrobila falošnému trestnému konaniu niekoľko stoviek mierumilovných chodcov a demonštrantov ktorí si pripomínali významnú udalosť ',\n",
       "  'zároveň sa stotožňujem s názorom že by sme sa nemali vystaviť riziku že členské štáty vystúpia zo schémy ',\n",
       "  'sk tento rok keď oslavujeme  výročie eura  januára  sa slovensko stalo  členom eurozóny ',\n",
       "  'po prvé sme znepokojení dôsledkami súdneho procesu proti politickej strane ak ',\n",
       "  'nový štatút pre poslancov na ktorom sme pracovali mnoho rokov vstúpi do platnosti v novom volebnom období ',\n",
       "  'preto vyzývame kambodžské orgány aby vykonali odporúčania osobitného spravodajcu osn pre ľudské práva v kambodži ',\n",
       "  'najmenej piati ľudia zomreli a stovky ich bolo zranených ',\n",
       "  'vítam túto správu ktorá tvrdí že verejné zdravie je nevyhnutné pre spoločné dobro ',\n",
       "  'dovoľte mi teraz prejsť k niektorým záležitostiam ktoré ste otvorili v návrhu uznesenia a ktoré sa spomínali v správe ',\n",
       "  'presne tak ako v prípade záplav by ste mali preskúmať možnosť prijatia smernice o ochrane pred rizikom vzniku požiarov ',\n",
       "  'výbor pre rozvoj navrhol režim podávania správ podľa jednotlivých krajín aby museli nadnárodné korporácie podávať správy podľa jednotlivých krajín ',\n",
       "  'písomne   fr hlasujeme za toto uznesenie v nádeji že sa ochráni čo najviac záujmov cestujúcich v leteckej doprave pokiaľ ide o súčasný stav vecí liberalizácia služieb v oblasti dopravy nárast počtu leteckých spoločností ',\n",
       "  'gruzínsko je dnes schopné usporiadať také voľby ',\n",
       "  'je to prázdna výhovorka pre krajiny ktoré sa snažia ospravedlniť skladovanie kazetových bômb ako súčasť dodržovania zákazu nášľapných mín keď kazetová munícia je rovnako smrtiaca a na svete spôsobila ešte väčšie humanitárne škody ',\n",
       "  'de vážený pán predseda nepožiadala som o slovo preto aby som vzniesla procedurálnu námietku ale preto že by som vás pán predseda a našich kolegov poslancov chcela upozorniť na problém v preklade ',\n",
       "  'mohli sme samozrejme tomuto sektoru prideliť viac peňazí ako to navrhovali zástupcovia sociálnodemokratickej strany ale je dobré že preň boli v tomto návrhu rozpočtu vyčlenené aspoň nejaké prostriedky ',\n",
       "  'jeho členovia mali zjavne radosť z náročnej práce ',\n",
       "  'písomne   bg bránim výsady a imunitu bruna gollnischa a myslím si že stíhanie ktorému bol vystavený je výlučne politického charakteru ',\n",
       "  'samotné postavenie migranta znamená diskrimináciu a nerovnosť a prispieva k prísnejším trestom za rovnaký trestný čin ',\n",
       "  'po tom bude nasledovať konferencia v septembri pod švédskym predsedníctvom na tému zdravé a dôstojné starnutie ktorej súčasťou bude seminár o koordinácii starostlivosti o osoby trpiace alzheimerovou chorobou a inými demenciami ',\n",
       "  'potlesk ',\n",
       "  'preto verím že komisia bude poučená a bude v tejto oblasti postupovať svedomito pretože trestné právo nie je nástrojom ku každodennému použitiu ale až tým posledným prostriedkom k vynucovaniu práva ',\n",
       "  'minulý rok v septembri  komisia predložila európskemu parlamentu a rade správu hodnotiacu systém v ktorej bola v podstate preukázaná jeho užitočnosť ',\n",
       "  'vážený pán predsedajúci vážené pani poslankyne vážení páni poslanci som veľmi rád že môžem povedať že vaša správa víta oznámenie komisie a podporuje prvý súbor možností politiky pre opatrenia ktoré ustanovuje ',\n",
       "  'ak bude táto politika pre európsku úniu prijateľná vyhneme sa všetkým zakopnutiam pri uzatváraní dvojstranných dohôd a obchádzaniu ich susedov v európskej únii ',\n",
       "  'napriek všetkej kritike ktorá bola práve adresovaná tejto politike a s ktorou sa stotožňujem som naďalej presvedčený že to čo sa osvedčilo v minulosti by nás malo sprevádzať pri našich krokoch aj v budúcnosti ',\n",
       "  'potlesk ',\n",
       "  'mohla by zohrávať veľmi pozitívnu úlohu pri cieľoch vytvárania bohatstva a v hospodárskych a politických vzťahoch medzi národmi a krajinami európy a latinskej ameriky ',\n",
       "  'musíme sa zaoberať skutočným spôsobom ako ľudí zamestnať a to na reálnych pracovných miestach ',\n",
       "  'štrukturálne reformy nemôžeme realizovať bez nových podnikov pretože ľudia nie sú schopní opustiť svoju súčasnú prácu a ísť na nové pracovné miesta čo by mohlo vytvoriť pôdu pre sociálne nepokoje '],\n",
       " 'cs': ['upozorňujeme že jejím cílem je šetřit penězi za administrativní výdaje ',\n",
       "  'zcela otevřeně přiznám že ne vždy rozumím extrémně složitým vědeckým analýzám které dostávám ',\n",
       "  'při práci na této zprávě bylo třeba abych pracovala právě s touto představivostí ',\n",
       "  'a nakonec plně podporuji myšlenku sjednotit vědeckovýzkumný sektor v energetické oblasti jakožto klíčový prvek dané dlouhodobé politiky ',\n",
       "  'to je vážná věc ',\n",
       "  'z tohoto hlediska zcela souhlasím s připomínkami pana verheugena ',\n",
       "  'rozprava je ukončena ',\n",
       "  'vzhledem k významu které má stavebnictví pro evropské hospodářství je nutné odstranit technické překážky bránící obchodu se stavebními výrobky v zájmu zlepšení jejich volného pohybu na vnitřním trhu ',\n",
       "  'v roce  je to popáté kdy byly z tohoto fondu uvolněny prostředky přičemž byla využita celková částka  milionů eur z plánované výše  milionů eur ',\n",
       "  've svém vystoupení bych chtěla ocenit návrhy paní zpravodajky anny záborské které doporučují uznat vedle tradiční oficiální výdělečné činnosti i mnohé formy činnosti nevýdělečné která se v rámci solidarity mezi generacemi vykonává v rodinách '],\n",
       " 'en': ['i can understand your approach a little bit ',\n",
       "  'membership of parliament see minutes ',\n",
       "  'the establishment of a joint eu resettlement programme  ',\n",
       "  'decentralisation is very important for sustainable energy ',\n",
       "  'a majority rejected these solutions and wishes to stay in bosnia ',\n",
       "  'ro at the start of the year the unemployment rate reached  while the deficit has grown in numerous member states ',\n",
       "  'we are as honourable members know supporting projects worldwide in the fight against racism xenophobia or discrimination on any ground ',\n",
       "  'agenda for next sitting see minutes ',\n",
       "  'in addition communities should be supported both financially and by specific solutions on the regional level in order to improve the level of communal services ',\n",
       "  'this includes all commercial aspects of exploitation as well as the legal contractual and financing structures of the different exploitation models that will ensure that a stable governance model is put into place ',\n",
       "  'therefore it is high time that we start acting decisively and collectively on ways to counter this new very catastrophic form of terrorism in europe ',\n",
       "  'the integration which we hear so much about must not consist of our dispensing with christmas easter st nicholass day and so forth in our kindergartens and schools in an attempt to accommodate muslim immigrants for this would result in a loss of our cultural identity ',\n",
       "  'it is strange is it not in an age in which personal identity is being jealously guarded and identity theft is regarded as the crime it is that some people thoughtlessly seek to destroy the unique identity of the institutions which made them what they are denying others the education they acquired there ',\n",
       "  'i therefore congratulate the court of auditors on its excellent performance in  and agree with the rapporteur with regard to all his conclusions ',\n",
       "  'but what happened in the  years between  and  when the euro was in situ and mr trichet and his predecessors were pursuing their policies was that almost  million jobs were created ',\n",
       "  'she has been a good leader in the negotiations and has also listened to the other groups ',\n",
       "  'eu citizens must be very careful when purchasing medicines online because here the chances of acquiring falsified medicines increases by up to  ',\n",
       "  'we have no desire to keep talking to a brick wall ',\n",
       "  'trafficking in people including children for money for pleasure for organs is increasing with each year that passes ',\n",
       "  'finally   i am about to conclude mr president   i would like to mention our insistence on the application and implementation of measures that have already been announced be it the institute for equality the centre on violence or the full application of existing directives so that we can make the emancipation of women and their personal and professional fulfilment the central goal of our initiative and the strategy itself ',\n",
       "  'they are often held together by force and the armys power is great ',\n",
       "  'this affects ports and the hinterland in particular which have been neglected in recent years and now form the main focus of this report ',\n",
       "  'it mr president commissioner minister ladies and gentlemen through this new regulation on textile product labelling which we will vote on in plenary tomorrow europe will reach an objective it has been pursuing for years ',\n",
       "  'what we are currently experiencing mr president is not in my opinion a monetary crisis in the union it is not even a crisis of our single currency rather it is a crisis of eu governance ',\n",
       "  'mr mladenov and others have pointed out that the responsibility for security that is to say for establishing a secure situation in iraq rests primarily with the iraqi authorities ',\n",
       "  'experience from the first assessment of the national action plans demonstrates in practice that conditions in the eu have not yet matured to the point at which measures to promote energy efficiency can be supported ',\n",
       "  'on his behalf i thank the commissioner for his answer to the question ',\n",
       "  'it really does look like we only pay attention to the interests of financial institutions to speculators and to big business ',\n",
       "  'the icty has shown that no one whatever their position or status at the time of the conflict is immune from justice   a precedent that now sees the international criminal court promote respect for human rights across our world ',\n",
       "  'why do we need it ',\n",
       "  'i hope that the austrian federal government will soon find a fair solution that satisfies the eminently well protected slovenian minority in austria ',\n",
       "  'moreover i was informed that you wished to speak on a different subject ',\n",
       "  'we have been told that it was not a nato vessel that it was not the charles de gaulle ',\n",
       "  'i hope madam commissioner that you will be returning to the commission and that in the new parliament session you will bring forward a proposal on needle stick injuries which is very important for many health care workers and is a very avoidable problem in our health care system ',\n",
       "  'it madam president when a century ago antonio meuccis patent was not recognised by the american telephony industry it was not because of a lack of english or his use of italian but instead the failure to meet a condition he did not have the money to register his patent for another year ',\n",
       "  'where mikhail khodorkovsky and platon lebedev are concerned i would state that these individuals must at last be freed   otherwise the state visit by the russian president to the european parliament will take place under a huge cloud ',\n",
       "  'we welcome cooperation between member states in dealing with these huge problems ',\n",
       "  'this is the challenge facing us ',\n",
       "  'if there are not  of us to make up this civil protection force let us start with  or  of us ',\n",
       "  'fr mr president i would like to continue with the argument from my speech yesterday on the preparations for the copenhagen summit and then mention yesterdays ecofin meeting which was not hugely successful ',\n",
       "  'it is true that when negotiating with you we always know where we are ',\n",
       "  'i would also like to stress the importance of measures such as the certification of skills professional training incentives for job creation and the opportunity to gain new experience in the workplace ',\n",
       "  'they produce forged notes and coins of such high quality which even have imitations of the security features that the man on the street is easily taken in by the forged  euro notes ',\n",
       "  'highlighting the synergies between the different agents involved developing young peoples independence taking action to stop young people leaving education early reasserting the importance of vocational training and apprenticeships adopting a binding european quality framework for training schemes these are the kinds of good ideas that it is important for us to air now at national level ',\n",
       "  'mr brok what is the difference between the goldstone report and the resolution that followed ',\n",
       "  'otherwise the legitimate call for respect for a minority is in danger of turning into a form of reverse discrimination to the detriment of all those honest citizens who suffer the crimes and abuses of many roma ',\n",
       "  'the directive takes into consideration the specific social circumstances of the individual member states ',\n",
       "  'how does the czech presidency assess todays vote in parliament with regard to the european creative artists who want to protect their rights on the internet ',\n",
       "  'important progress has been made but it is still not enough ',\n",
       "  'i would also like to congratulate in particular mr barrot and his services for this procedure to push forward the preparation of the legislation ',\n",
       "  'the european union is back on its feet ',\n",
       "  'i would like to congratulate mrs meissner on this positive report ',\n",
       "  'obviously that does not set a precedent for the future because all the really important issues concerning the changes to the treaty such as for example the electoral procedure would require the convening of a convention ',\n",
       "  'what are the national governments waiting for ',\n",
       "  'i would like to mention one further point that was important in the debate regarding whether or not we should vote in favour ',\n",
       "  'pl mr president mr diamandouros as in previous years the ombudsman has presented a very objective report of his activities from which can be established how important his mission is for the citizens of the european union ',\n",
       "  'the debate is closed ',\n",
       "  'i voted in favour of it and i consider it to be excellent ',\n",
       "  'it mr president ladies and gentlemen the principal actions planned for  can mainly be supported as regards the growth and jobs provided for by the lisbon strategy ',\n",
       "  'this poses an enormous challenge to the political system in the european union and the member states ',\n",
       "  'these instruments have proven popular with consumers and producers alike ',\n",
       "  'ladies and gentlemen your excellencies ladies and gentlemen ',\n",
       "  'since i know this is a matter of political concern let me add a final comment on hungarys media law ',\n",
       "  'the martin report is the best example of this approach ',\n",
       "  'yet again the small business entrepreneur is being targeted and disadvantaged by bureaucratic interference and overregulation ',\n",
       "  'it is very kind of you to mention this ',\n",
       "  'i should like to see the eu push further ahead with this in the context of climate protection and i hope that we can convince all the other major competing airlines to join this agreement ',\n",
       "  'i want to thank you also for having very generously given the commission the possibility for  of straight away having eur   more in the budget for the palestinians ',\n",
       "  'the points that we think are important are also mentioned in the resolution that is currently on the table ',\n",
       "  'particularly distressing is the unannounced limited access to interpretation during hearings or voting when discussing verbal amendments ',\n",
       "  'i have problems with turkey when i look at its behaviour towards berlin and when i consider cyprus religious freedom freedom of opinion the ban on political parties and similar issues ',\n",
       "  'this is an essential part of the eus ability to accept new member states and also a factor in increasing trust in europe among its citizens ',\n",
       "  'we need to find a certain balance which will safeguard both the rights of patients   who are not merely consumers   to cross frontier care and equal access for all to quality care with solidarity based responsibility to ensure social and territorial cohesion and respect for the principle of subsidiarity ',\n",
       "  'it is important that all the member states pursue the declared objectives both jointly and individually so that a high level of employment and productivity can be achieved in europe ',\n",
       "  'there is unjustified use of the issue of loss of employability ',\n",
       "  'european viticulture is the last part of our agricultural policy that is still not reformed and still works on the principle of the higher the yield the more money from brussels ',\n",
       "  'but it is also worth pointing out that our development aid in the past did focus on agriculture and food production as other speakers have mentioned and tragically in latter years we have drawn away from looking at the importance of production agriculture in the developing world ',\n",
       "  'although it has occurred in the united states ie under american regulatory requirements and standards we must all learn some lessons from it and prevent any similar accidents ',\n",
       "  'hu mr president the fact that we have avoided a poor compromise on the issue of climate change is very important ',\n",
       "  'we are growing increasingly concerned about the progress of the democratisation process in turkey ',\n",
       "  'thirdly the legal authority of producer organisations must be significantly improved ',\n",
       "  'i am among those who are fiercely attached to the spirit of the barcelona process who believe that progress is not measured solely by trade statistics which are incidentally still too unfavourable to our partners from the south to their populations ',\n",
       "  'a monument commemorating the soldiers of the murderous waffen ss galizien division was unveiled there ',\n",
       "  'the report by mr toubon is an accurate report which sets out the areas on which eu legislation and policy should concentrate to improve the operation of the internal market ',\n",
       "  'does a political agreement refer to a first reading agreement or to preparations for an early second reading agreement under the french presidency ',\n",
       "  'i welcome this and it means we can also be happy with the result ',\n",
       "  'fr madam president i hope that i have responded to all the comments and i would like once again to thank all members for their words of encouragement and also to congratulate you madam president as the commissioner has already done for the important initiative aiming to approve a joint register for parliament and the commission ',\n",
       "  'alls well that ends well ',\n",
       "  'the debate is closed ',\n",
       "  'while very keen to see healthy eating habits promoted among youngsters in the uk and the eu we have reservations about the budgetary allocations proposed in this report which are considerably greater than the eur  million proposed by the commission ',\n",
       "  'sk i will try to be brief in order to keep to the limit ',\n",
       "  'of course these provisions must not merely exist on paper but must also be applied in practice in a consistent manner throughout europe ',\n",
       "  'and that will provide much stronger tools and infrastructure to carry out the tests next time in a more unified rigorous and coherent manner ',\n",
       "  'president of the european commission   let me also start by conveying on behalf of the commission our fullest admiration respect and solidarity with the japanese people ',\n",
       "  'we are now seven years into the process ',\n",
       "  'i was one of the first people from our group to witness this within the committee on employment and social affairs and i thank you warmly ',\n",
       "  'we are acting within the scope of our prerogatives and we therefore expect the council to adopt a responsible political attitude that is similar to our own ',\n",
       "  'orlando zapata a cuban political prisoner died having staged a hunger strike ',\n",
       "  'i would like once more to make it quite clear that the use of these weapons including in countries where the european union has police and military forces in operation such as afghanistan bosnia and the democratic republic of congo represent just as much of a danger to our mission as to the people themselves ',\n",
       "  'i am grateful to parliament for what it has already done and for what it will do in the future now that it will colegislate on the area of justice and security ']}"
      ]
     },
     "execution_count": 15,
     "metadata": {},
     "output_type": "execute_result"
    }
   ],
   "source": [
    "processed_data"
   ]
  },
  {
   "cell_type": "markdown",
   "metadata": {},
   "source": [
    "### STEP 03 - Classification Model : Naive Bayes "
   ]
  },
  {
   "cell_type": "markdown",
   "metadata": {},
   "source": [
    "#### Vectorize Dataset"
   ]
  },
  {
   "cell_type": "code",
   "execution_count": 16,
   "metadata": {},
   "outputs": [],
   "source": [
    "sentences, y_train = [], []\n",
    "\n",
    "for k, v in processed_data.items():\n",
    "    for sentence in v:\n",
    "        sentences.append(sentence)\n",
    "        y_train.append(k)"
   ]
  },
  {
   "cell_type": "code",
   "execution_count": 17,
   "metadata": {},
   "outputs": [],
   "source": [
    "vectorizer = CountVectorizer()"
   ]
  },
  {
   "cell_type": "code",
   "execution_count": 18,
   "metadata": {},
   "outputs": [
    {
     "data": {
      "text/plain": [
       "<210x2208 sparse matrix of type '<class 'numpy.int64'>'\n",
       "\twith 3867 stored elements in Compressed Sparse Row format>"
      ]
     },
     "execution_count": 18,
     "metadata": {},
     "output_type": "execute_result"
    }
   ],
   "source": [
    "X_train = vectorizer.fit_transform(sentences)\n",
    "X_train"
   ]
  },
  {
   "cell_type": "markdown",
   "metadata": {},
   "source": [
    "#### Initialize Model Parameters"
   ]
  },
  {
   "cell_type": "code",
   "execution_count": 19,
   "metadata": {},
   "outputs": [
    {
     "data": {
      "text/plain": [
       "MultinomialNB(alpha=1.0, class_prior=None, fit_prior=True)"
      ]
     },
     "execution_count": 19,
     "metadata": {},
     "output_type": "execute_result"
    }
   ],
   "source": [
    "naive_classifier = MultinomialNB()\n",
    "naive_classifier.fit(X_train, y_train)"
   ]
  },
  {
   "cell_type": "markdown",
   "metadata": {},
   "source": [
    "#### Vectorizing Validation Data & Evaluating Model"
   ]
  },
  {
   "cell_type": "code",
   "execution_count": 20,
   "metadata": {},
   "outputs": [],
   "source": [
    "data_val = dict()\n",
    "data_val['sk'] = open_file(r'C:\\Users\\trish\\Desktop\\LanguageClassificationProject\\Data\\Sentences\\val_sentences.sk')\n",
    "data_val['cs'] = open_file(r'C:\\Users\\trish\\Desktop\\LanguageClassificationProject\\Data\\Sentences\\val_sentences.cs')\n",
    "data_val['en'] = open_file(r'C:\\Users\\trish\\Desktop\\LanguageClassificationProject\\Data\\Sentences\\val_sentences.en')\n"
   ]
  },
  {
   "cell_type": "code",
   "execution_count": 21,
   "metadata": {},
   "outputs": [],
   "source": [
    "val_preprocessed = {k : [preprocess(sentence) for sentence in v] for k, v in data_val.items()}"
   ]
  },
  {
   "cell_type": "code",
   "execution_count": 22,
   "metadata": {},
   "outputs": [],
   "source": [
    "sentences_val, y_val = [], []\n",
    "\n",
    "for k, v in processed_data.items():\n",
    "    for sentence in v:\n",
    "        sentences_val.append(sentence)\n",
    "        y_val.append(k)"
   ]
  },
  {
   "cell_type": "code",
   "execution_count": 23,
   "metadata": {},
   "outputs": [
    {
     "data": {
      "text/plain": [
       "<210x2208 sparse matrix of type '<class 'numpy.int64'>'\n",
       "\twith 3867 stored elements in Compressed Sparse Row format>"
      ]
     },
     "execution_count": 23,
     "metadata": {},
     "output_type": "execute_result"
    }
   ],
   "source": [
    "X_val = vectorizer.transform(sentences_val)\n",
    "X_val"
   ]
  },
  {
   "cell_type": "code",
   "execution_count": 24,
   "metadata": {},
   "outputs": [
    {
     "data": {
      "image/png": "[encoded data removed]",
      "text/plain": [
       "<Figure size 360x360 with 2 Axes>"
      ]
     },
     "metadata": {},
     "output_type": "display_data"
    }
   ],
   "source": [
    "predictions = naive_classifier.predict(X_val)\n",
    "\n",
    "plot_confusion_matrix(y_val, predictions, ['sk', 'cs', 'en'])"
   ]
  },
  {
   "cell_type": "markdown",
   "metadata": {},
   "source": [
    "### STEP 04 - Parameter Tuning For Enhanced Model Performance"
   ]
  },
  {
   "cell_type": "code",
   "execution_count": 30,
   "metadata": {},
   "outputs": [
    {
     "data": {
      "image/png": "[encoded data removed]",
      "text/plain": [
       "<Figure size 360x360 with 2 Axes>"
      ]
     },
     "metadata": {},
     "output_type": "display_data"
    }
   ],
   "source": [
    "naive_classifier = MultinomialNB(alpha = 0.001, fit_prior = False)\n",
    "naive_classifier.fit(X_train, y_train)\n",
    "predictions_new = naive_classifier.predict(X_val)\n",
    "plot_confusion_matrix(y_val, predictions_new, ['sk', 'cs', 'en'])"
   ]
  },
  {
   "cell_type": "markdown",
   "metadata": {},
   "source": [
    "### STEP 05 - Using Subwords to Shift Perspective"
   ]
  },
  {
   "cell_type": "markdown",
   "metadata": {},
   "source": [
    "Since we have texts from various different languages, we can try and split the words further to see if that improves the performance of the model."
   ]
  },
  {
   "cell_type": "code",
   "execution_count": 37,
   "metadata": {},
   "outputs": [],
   "source": [
    "import re, collections\n",
    "\n",
    "def get_stats(vocab):\n",
    "    pairs = collections.defaultdict(int)\n",
    "    for w, f in vocab.items():\n",
    "        symbols = w.split()\n",
    "        for i in range(len(symbols)-1):\n",
    "            pairs[symbols[i], symbols[i+1]] += f\n",
    "    return pairs"
   ]
  },
  {
   "cell_type": "code",
   "execution_count": 32,
   "metadata": {},
   "outputs": [],
   "source": [
    "def merge_vocab(pair, v_in):\n",
    "    v_out = {}\n",
    "    bigram = re.escape(' '.join(pair))\n",
    "    p = re.compile(r'(?<!\\S)' + bigram + r'(?!\\S)')\n",
    "    for word in v_in:\n",
    "        w_out = p.sub(''.join(pair), word)\n",
    "        v_out[w_out] = v_in[word] \n",
    "    return v_out"
   ]
  },
  {
   "cell_type": "code",
   "execution_count": 33,
   "metadata": {},
   "outputs": [],
   "source": [
    "def get_vocab(data):\n",
    "\n",
    "    words = []\n",
    "    for sentence in data:\n",
    "        words.extend(sentence.split())\n",
    "        \n",
    "    vocab = defaultdict(int)\n",
    "    for word in words:\n",
    "        vocab[' '.join(word)] += 1\n",
    "        \n",
    "    return vocab"
   ]
  },
  {
   "cell_type": "code",
   "execution_count": 35,
   "metadata": {},
   "outputs": [],
   "source": [
    "vocab = get_vocab(sentences)"
   ]
  },
  {
   "cell_type": "code",
   "execution_count": 38,
   "metadata": {},
   "outputs": [],
   "source": [
    "# also taken from original paper\n",
    "for i in range(100):\n",
    "    pairs = get_stats(vocab)\n",
    "    best = max(pairs, key=pairs.get) \n",
    "    vocab = merge_vocab(best, vocab)"
   ]
  },
  {
   "cell_type": "code",
   "execution_count": 39,
   "metadata": {},
   "outputs": [],
   "source": [
    "merges = defaultdict(int)\n",
    "for k, v in vocab.items():\n",
    "    for subword in k.split():\n",
    "        if len(subword) >= 2:\n",
    "            merges[subword] += v"
   ]
  },
  {
   "cell_type": "code",
   "execution_count": 40,
   "metadata": {},
   "outputs": [],
   "source": [
    "merge_ordered = sorted(merges, key=merges.get, reverse=True)"
   ]
  },
  {
   "cell_type": "code",
   "execution_count": 43,
   "metadata": {},
   "outputs": [],
   "source": [
    "pkl.dump(merge_ordered, open(r'C:\\Users\\trish\\Desktop\\LanguageClassificationProject\\Data\\Auxiliary\\merge_ordered.pkl', 'wb'))\n",
    "\n",
    "def split_into_subwords(text):\n",
    "    merges = pkl.load(open(r'C:\\Users\\trish\\Desktop\\LanguageClassificationProject\\Data\\Auxiliary\\merge_ordered.pkl', 'rb'))\n",
    "    subwords = []\n",
    "    for word in text.split():\n",
    "        for subword in merges:\n",
    "            subword_count = word.count(subword)\n",
    "            if subword_count > 0:\n",
    "                word = word.replace(subword, ' ')\n",
    "                subwords.extend([subword]*subword_count)\n",
    "    return ' '.join(subwords)"
   ]
  },
  {
   "cell_type": "code",
   "execution_count": 44,
   "metadata": {},
   "outputs": [
    {
     "data": {
      "text/plain": [
       "'is th is is la re'"
      ]
     },
     "execution_count": 44,
     "metadata": {},
     "output_type": "execute_result"
    }
   ],
   "source": [
    "split_into_subwords('hey this is trishla here')"
   ]
  },
  {
   "cell_type": "code",
   "execution_count": 45,
   "metadata": {},
   "outputs": [
    {
     "name": "stdout",
     "output_type": "stream",
     "text": [
      "Language: sk\n",
      "-----------------------\n",
      "Number of sentences\t:\t 100\n",
      "Number of words\t\t:\t 3431\n",
      "Number of unique words\t:\t 75\n",
      "Sample extract\t\t:\t de an de al as ne as...\n",
      "\n",
      "Language: cs\n",
      "-----------------------\n",
      "Number of sentences\t:\t 10\n",
      "Number of words\t\t:\t 239\n",
      "Number of unique words\t:\t 59\n",
      "Sample extract\t\t:\t po je me or že je le...\n",
      "\n",
      "Language: en\n",
      "-----------------------\n",
      "Number of sentences\t:\t 100\n",
      "Number of words\t\t:\t 3863\n",
      "Number of unique words\t:\t 75\n",
      "Sample extract\t\t:\t an st an er ou ro ch...\n",
      "\n"
     ]
    }
   ],
   "source": [
    "data_preprocessed_subwords = {k: [split_into_subwords(sentence) for sentence in v] for k, v in processed_data.items()}\n",
    "\n",
    "show_statistics(data_preprocessed_subwords)"
   ]
  },
  {
   "cell_type": "code",
   "execution_count": 47,
   "metadata": {},
   "outputs": [],
   "source": [
    "data_train_subwords = []\n",
    "for sentence in sentences:\n",
    "    data_train_subwords.append(split_into_subwords(sentence))"
   ]
  },
  {
   "cell_type": "code",
   "execution_count": 48,
   "metadata": {},
   "outputs": [],
   "source": [
    "data_val_subwords = []\n",
    "for sentence in sentences_val:\n",
    "    data_val_subwords.append(split_into_subwords(sentence))"
   ]
  },
  {
   "cell_type": "code",
   "execution_count": 49,
   "metadata": {},
   "outputs": [
    {
     "data": {
      "image/png": "[encoded data removed]",
      "text/plain": [
       "<Figure size 360x360 with 2 Axes>"
      ]
     },
     "metadata": {},
     "output_type": "display_data"
    }
   ],
   "source": [
    "vectorizer = CountVectorizer()\n",
    "X_train = vectorizer.fit_transform(data_train_subwords)\n",
    "X_val = vectorizer.transform(data_val_subwords)\n",
    "naive_classifier = MultinomialNB(fit_prior=False)\n",
    "naive_classifier.fit(X_train, y_train)\n",
    "predictions = naive_classifier.predict(X_val)\n",
    "\n",
    "plot_confusion_matrix(y_val, predictions, ['sk', 'cs', 'en'])"
   ]
  },
  {
   "cell_type": "code",
   "execution_count": null,
   "metadata": {},
   "outputs": [],
   "source": [
    "f1_score(y_val, predictions, average='weighted')"
   ]
  }
 ],
 "metadata": {
  "kernelspec": {
   "display_name": "Python 3",
   "language": "python",
   "name": "python3"
  },
  "language_info": {
   "codemirror_mode": {
    "name": "ipython",
    "version": 3
   },
   "file_extension": ".py",
   "mimetype": "text/x-python",
   "name": "python",
   "nbconvert_exporter": "python",
   "pygments_lexer": "ipython3",
   "version": "3.7.1"
  }
 },
 "nbformat": 4,
 "nbformat_minor": 2
}
